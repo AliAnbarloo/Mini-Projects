{
 "cells": [
  {
   "cell_type": "markdown",
   "id": "694aa843-91eb-4d22-85ea-19a32d3e8c43",
   "metadata": {},
   "source": [
    "# Oh hello"
   ]
  },
  {
   "cell_type": "code",
   "execution_count": 2,
   "id": "0f225cce-d70a-4801-a30a-27e9e794ebbe",
   "metadata": {},
   "outputs": [
    {
     "name": "stdout",
     "output_type": "stream",
     "text": [
      "Wolll\n"
     ]
    }
   ],
   "source": [
    "print(\"Wolll\")"
   ]
  },
  {
   "cell_type": "code",
   "execution_count": 3,
   "id": "98100500-4307-4fcb-93cc-a213a6d51a32",
   "metadata": {},
   "outputs": [
    {
     "name": "stdout",
     "output_type": "stream",
     "text": [
      "\u001b[H\u001b[2J"
     ]
    },
    {
     "data": {
      "text/plain": [
       "0"
      ]
     },
     "execution_count": 3,
     "metadata": {},
     "output_type": "execute_result"
    }
   ],
   "source": [
    "import os\n",
    "os.system(\"clear\")"
   ]
  },
  {
   "cell_type": "code",
   "execution_count": null,
   "id": "8a437784-7bbd-407b-aea8-487a840dbbbe",
   "metadata": {},
   "outputs": [],
   "source": []
  }
 ],
 "metadata": {
  "kernelspec": {
   "display_name": "Python 3 (ipykernel)",
   "language": "python",
   "name": "python3"
  },
  "language_info": {
   "codemirror_mode": {
    "name": "ipython",
    "version": 3
   },
   "file_extension": ".py",
   "mimetype": "text/x-python",
   "name": "python",
   "nbconvert_exporter": "python",
   "pygments_lexer": "ipython3",
   "version": "3.10.12"
  }
 },
 "nbformat": 4,
 "nbformat_minor": 5
}
